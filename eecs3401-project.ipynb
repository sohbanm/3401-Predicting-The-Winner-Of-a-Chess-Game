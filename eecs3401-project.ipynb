{
 "cells": [
  {
   "cell_type": "markdown",
   "metadata": {},
   "source": [
    "# **EECS3401 Final Project**\n",
    "## Our goal is to **predict the outcome of chess games and what features have the strongest influence on this outcome**"
   ]
  },
  {
   "cell_type": "markdown",
   "metadata": {},
   "source": [
    "## **0 - Notebook Initialization**"
   ]
  },
  {
   "cell_type": "code",
   "execution_count": 1,
   "metadata": {
    "execution": {
     "iopub.execute_input": "2023-11-21T04:41:20.688476Z",
     "iopub.status.busy": "2023-11-21T04:41:20.688070Z",
     "iopub.status.idle": "2023-11-21T04:41:22.694998Z",
     "shell.execute_reply": "2023-11-21T04:41:22.693849Z",
     "shell.execute_reply.started": "2023-11-21T04:41:20.688440Z"
    }
   },
   "outputs": [
    {
     "name": "stdout",
     "output_type": "stream",
     "text": [
      "/kaggle/input/online-chess-games/chess_games.csv\n"
     ]
    }
   ],
   "source": [
    "# necessary import\n",
    "import numpy as np\n",
    "import pandas as pd\n",
    "import matplotlib.pyplot as plt\n",
    "import seaborn as sns\n",
    "\n",
    "import os\n",
    "for dirname, _, filenames in os.walk('/kaggle/input'):\n",
    "    for filename in filenames:\n",
    "        print(os.path.join(dirname, filename))"
   ]
  },
  {
   "cell_type": "code",
   "execution_count": 2,
   "metadata": {
    "execution": {
     "iopub.execute_input": "2023-11-21T04:41:22.698189Z",
     "iopub.status.busy": "2023-11-21T04:41:22.697299Z",
     "iopub.status.idle": "2023-11-21T04:41:22.991981Z",
     "shell.execute_reply": "2023-11-21T04:41:22.990835Z",
     "shell.execute_reply.started": "2023-11-21T04:41:22.698141Z"
    }
   },
   "outputs": [],
   "source": [
    "# import the dataset\n",
    "chess_data = pd.read_csv('/kaggle/input/online-chess-games/chess_games.csv')"
   ]
  },
  {
   "cell_type": "markdown",
   "metadata": {},
   "source": [
    "## **1 - Exploratory Data Analysis (EDA)**\n",
    "First, we must explore the dataset to see what we have to work with and what we may need to handle (null values)."
   ]
  },
  {
   "cell_type": "code",
   "execution_count": 3,
   "metadata": {
    "execution": {
     "iopub.execute_input": "2023-11-21T04:41:22.993908Z",
     "iopub.status.busy": "2023-11-21T04:41:22.993469Z",
     "iopub.status.idle": "2023-11-21T04:41:23.063689Z",
     "shell.execute_reply": "2023-11-21T04:41:23.062814Z",
     "shell.execute_reply.started": "2023-11-21T04:41:22.993871Z"
    }
   },
   "outputs": [
    {
     "name": "stdout",
     "output_type": "stream",
     "text": [
      "<class 'pandas.core.frame.DataFrame'>\n",
      "RangeIndex: 20058 entries, 0 to 20057\n",
      "Data columns (total 17 columns):\n",
      " #   Column             Non-Null Count  Dtype \n",
      "---  ------             --------------  ----- \n",
      " 0   game_id            20058 non-null  int64 \n",
      " 1   rated              20058 non-null  bool  \n",
      " 2   turns              20058 non-null  int64 \n",
      " 3   victory_status     20058 non-null  object\n",
      " 4   winner             20058 non-null  object\n",
      " 5   time_increment     20058 non-null  object\n",
      " 6   white_id           20058 non-null  object\n",
      " 7   white_rating       20058 non-null  int64 \n",
      " 8   black_id           20058 non-null  object\n",
      " 9   black_rating       20058 non-null  int64 \n",
      " 10  moves              20058 non-null  object\n",
      " 11  opening_code       20058 non-null  object\n",
      " 12  opening_moves      20058 non-null  int64 \n",
      " 13  opening_fullname   20058 non-null  object\n",
      " 14  opening_shortname  20058 non-null  object\n",
      " 15  opening_response   1207 non-null   object\n",
      " 16  opening_variation  14398 non-null  object\n",
      "dtypes: bool(1), int64(5), object(11)\n",
      "memory usage: 2.5+ MB\n"
     ]
    }
   ],
   "source": [
    "chess_data.info()"
   ]
  },
  {
   "cell_type": "code",
   "execution_count": 4,
   "metadata": {
    "execution": {
     "iopub.execute_input": "2023-11-21T04:41:23.066416Z",
     "iopub.status.busy": "2023-11-21T04:41:23.065138Z",
     "iopub.status.idle": "2023-11-21T04:41:23.075636Z",
     "shell.execute_reply": "2023-11-21T04:41:23.074481Z",
     "shell.execute_reply.started": "2023-11-21T04:41:23.066371Z"
    }
   },
   "outputs": [
    {
     "data": {
      "text/plain": [
       "(20058, 17)"
      ]
     },
     "execution_count": 4,
     "metadata": {},
     "output_type": "execute_result"
    }
   ],
   "source": [
    "chess_data.shape"
   ]
  },
  {
   "cell_type": "code",
   "execution_count": 5,
   "metadata": {
    "execution": {
     "iopub.execute_input": "2023-11-21T04:41:23.080691Z",
     "iopub.status.busy": "2023-11-21T04:41:23.079769Z",
     "iopub.status.idle": "2023-11-21T04:41:23.118494Z",
     "shell.execute_reply": "2023-11-21T04:41:23.117333Z",
     "shell.execute_reply.started": "2023-11-21T04:41:23.080644Z"
    }
   },
   "outputs": [
    {
     "data": {
      "text/html": [
       "<div>\n",
       "<style scoped>\n",
       "    .dataframe tbody tr th:only-of-type {\n",
       "        vertical-align: middle;\n",
       "    }\n",
       "\n",
       "    .dataframe tbody tr th {\n",
       "        vertical-align: top;\n",
       "    }\n",
       "\n",
       "    .dataframe thead th {\n",
       "        text-align: right;\n",
       "    }\n",
       "</style>\n",
       "<table border=\"1\" class=\"dataframe\">\n",
       "  <thead>\n",
       "    <tr style=\"text-align: right;\">\n",
       "      <th></th>\n",
       "      <th>game_id</th>\n",
       "      <th>rated</th>\n",
       "      <th>turns</th>\n",
       "      <th>victory_status</th>\n",
       "      <th>winner</th>\n",
       "      <th>time_increment</th>\n",
       "      <th>white_id</th>\n",
       "      <th>white_rating</th>\n",
       "      <th>black_id</th>\n",
       "      <th>black_rating</th>\n",
       "      <th>moves</th>\n",
       "      <th>opening_code</th>\n",
       "      <th>opening_moves</th>\n",
       "      <th>opening_fullname</th>\n",
       "      <th>opening_shortname</th>\n",
       "      <th>opening_response</th>\n",
       "      <th>opening_variation</th>\n",
       "    </tr>\n",
       "  </thead>\n",
       "  <tbody>\n",
       "    <tr>\n",
       "      <th>0</th>\n",
       "      <td>1</td>\n",
       "      <td>False</td>\n",
       "      <td>13</td>\n",
       "      <td>Out of Time</td>\n",
       "      <td>White</td>\n",
       "      <td>15+2</td>\n",
       "      <td>bourgris</td>\n",
       "      <td>1500</td>\n",
       "      <td>a-00</td>\n",
       "      <td>1191</td>\n",
       "      <td>d4 d5 c4 c6 cxd5 e6 dxe6 fxe6 Nf3 Bb4+ Nc3 Ba5...</td>\n",
       "      <td>D10</td>\n",
       "      <td>5</td>\n",
       "      <td>Slav Defense: Exchange Variation</td>\n",
       "      <td>Slav Defense</td>\n",
       "      <td>NaN</td>\n",
       "      <td>Exchange Variation</td>\n",
       "    </tr>\n",
       "    <tr>\n",
       "      <th>1</th>\n",
       "      <td>2</td>\n",
       "      <td>True</td>\n",
       "      <td>16</td>\n",
       "      <td>Resign</td>\n",
       "      <td>Black</td>\n",
       "      <td>5+10</td>\n",
       "      <td>a-00</td>\n",
       "      <td>1322</td>\n",
       "      <td>skinnerua</td>\n",
       "      <td>1261</td>\n",
       "      <td>d4 Nc6 e4 e5 f4 f6 dxe5 fxe5 fxe5 Nxe5 Qd4 Nc6...</td>\n",
       "      <td>B00</td>\n",
       "      <td>4</td>\n",
       "      <td>Nimzowitsch Defense: Kennedy Variation</td>\n",
       "      <td>Nimzowitsch Defense</td>\n",
       "      <td>NaN</td>\n",
       "      <td>Kennedy Variation</td>\n",
       "    </tr>\n",
       "    <tr>\n",
       "      <th>2</th>\n",
       "      <td>3</td>\n",
       "      <td>True</td>\n",
       "      <td>61</td>\n",
       "      <td>Mate</td>\n",
       "      <td>White</td>\n",
       "      <td>5+10</td>\n",
       "      <td>ischia</td>\n",
       "      <td>1496</td>\n",
       "      <td>a-00</td>\n",
       "      <td>1500</td>\n",
       "      <td>e4 e5 d3 d6 Be3 c6 Be2 b5 Nd2 a5 a4 c5 axb5 Nc...</td>\n",
       "      <td>C20</td>\n",
       "      <td>3</td>\n",
       "      <td>King's Pawn Game: Leonardis Variation</td>\n",
       "      <td>King's Pawn Game</td>\n",
       "      <td>NaN</td>\n",
       "      <td>Leonardis Variation</td>\n",
       "    </tr>\n",
       "    <tr>\n",
       "      <th>3</th>\n",
       "      <td>4</td>\n",
       "      <td>True</td>\n",
       "      <td>61</td>\n",
       "      <td>Mate</td>\n",
       "      <td>White</td>\n",
       "      <td>20+0</td>\n",
       "      <td>daniamurashov</td>\n",
       "      <td>1439</td>\n",
       "      <td>adivanov2009</td>\n",
       "      <td>1454</td>\n",
       "      <td>d4 d5 Nf3 Bf5 Nc3 Nf6 Bf4 Ng4 e3 Nc6 Be2 Qd7 O...</td>\n",
       "      <td>D02</td>\n",
       "      <td>3</td>\n",
       "      <td>Queen's Pawn Game: Zukertort Variation</td>\n",
       "      <td>Queen's Pawn Game</td>\n",
       "      <td>NaN</td>\n",
       "      <td>Zukertort Variation</td>\n",
       "    </tr>\n",
       "    <tr>\n",
       "      <th>4</th>\n",
       "      <td>5</td>\n",
       "      <td>True</td>\n",
       "      <td>95</td>\n",
       "      <td>Mate</td>\n",
       "      <td>White</td>\n",
       "      <td>30+3</td>\n",
       "      <td>nik221107</td>\n",
       "      <td>1523</td>\n",
       "      <td>adivanov2009</td>\n",
       "      <td>1469</td>\n",
       "      <td>e4 e5 Nf3 d6 d4 Nc6 d5 Nb4 a3 Na6 Nc3 Be7 b4 N...</td>\n",
       "      <td>C41</td>\n",
       "      <td>5</td>\n",
       "      <td>Philidor Defense</td>\n",
       "      <td>Philidor Defense</td>\n",
       "      <td>NaN</td>\n",
       "      <td>NaN</td>\n",
       "    </tr>\n",
       "  </tbody>\n",
       "</table>\n",
       "</div>"
      ],
      "text/plain": [
       "   game_id  rated  turns victory_status winner time_increment       white_id  \\\n",
       "0        1  False     13    Out of Time  White           15+2       bourgris   \n",
       "1        2   True     16         Resign  Black           5+10           a-00   \n",
       "2        3   True     61           Mate  White           5+10         ischia   \n",
       "3        4   True     61           Mate  White           20+0  daniamurashov   \n",
       "4        5   True     95           Mate  White           30+3      nik221107   \n",
       "\n",
       "   white_rating      black_id  black_rating  \\\n",
       "0          1500          a-00          1191   \n",
       "1          1322     skinnerua          1261   \n",
       "2          1496          a-00          1500   \n",
       "3          1439  adivanov2009          1454   \n",
       "4          1523  adivanov2009          1469   \n",
       "\n",
       "                                               moves opening_code  \\\n",
       "0  d4 d5 c4 c6 cxd5 e6 dxe6 fxe6 Nf3 Bb4+ Nc3 Ba5...          D10   \n",
       "1  d4 Nc6 e4 e5 f4 f6 dxe5 fxe5 fxe5 Nxe5 Qd4 Nc6...          B00   \n",
       "2  e4 e5 d3 d6 Be3 c6 Be2 b5 Nd2 a5 a4 c5 axb5 Nc...          C20   \n",
       "3  d4 d5 Nf3 Bf5 Nc3 Nf6 Bf4 Ng4 e3 Nc6 Be2 Qd7 O...          D02   \n",
       "4  e4 e5 Nf3 d6 d4 Nc6 d5 Nb4 a3 Na6 Nc3 Be7 b4 N...          C41   \n",
       "\n",
       "   opening_moves                        opening_fullname    opening_shortname  \\\n",
       "0              5        Slav Defense: Exchange Variation         Slav Defense   \n",
       "1              4  Nimzowitsch Defense: Kennedy Variation  Nimzowitsch Defense   \n",
       "2              3   King's Pawn Game: Leonardis Variation     King's Pawn Game   \n",
       "3              3  Queen's Pawn Game: Zukertort Variation    Queen's Pawn Game   \n",
       "4              5                        Philidor Defense     Philidor Defense   \n",
       "\n",
       "  opening_response    opening_variation  \n",
       "0              NaN   Exchange Variation  \n",
       "1              NaN    Kennedy Variation  \n",
       "2              NaN  Leonardis Variation  \n",
       "3              NaN  Zukertort Variation  \n",
       "4              NaN                  NaN  "
      ]
     },
     "execution_count": 5,
     "metadata": {},
     "output_type": "execute_result"
    }
   ],
   "source": [
    "chess_data.head()"
   ]
  },
  {
   "cell_type": "code",
   "execution_count": 6,
   "metadata": {
    "execution": {
     "iopub.execute_input": "2023-11-21T04:41:23.122882Z",
     "iopub.status.busy": "2023-11-21T04:41:23.122397Z",
     "iopub.status.idle": "2023-11-21T04:41:23.160088Z",
     "shell.execute_reply": "2023-11-21T04:41:23.158634Z",
     "shell.execute_reply.started": "2023-11-21T04:41:23.122834Z"
    }
   },
   "outputs": [
    {
     "name": "stdout",
     "output_type": "stream",
     "text": [
      "<class 'pandas.core.frame.DataFrame'>\n",
      "RangeIndex: 20058 entries, 0 to 20057\n",
      "Data columns (total 17 columns):\n",
      " #   Column             Non-Null Count  Dtype \n",
      "---  ------             --------------  ----- \n",
      " 0   game_id            20058 non-null  int64 \n",
      " 1   rated              20058 non-null  bool  \n",
      " 2   turns              20058 non-null  int64 \n",
      " 3   victory_status     20058 non-null  object\n",
      " 4   winner             20058 non-null  object\n",
      " 5   time_increment     20058 non-null  object\n",
      " 6   white_id           20058 non-null  object\n",
      " 7   white_rating       20058 non-null  int64 \n",
      " 8   black_id           20058 non-null  object\n",
      " 9   black_rating       20058 non-null  int64 \n",
      " 10  moves              20058 non-null  object\n",
      " 11  opening_code       20058 non-null  object\n",
      " 12  opening_moves      20058 non-null  int64 \n",
      " 13  opening_fullname   20058 non-null  object\n",
      " 14  opening_shortname  20058 non-null  object\n",
      " 15  opening_response   1207 non-null   object\n",
      " 16  opening_variation  14398 non-null  object\n",
      "dtypes: bool(1), int64(5), object(11)\n",
      "memory usage: 2.5+ MB\n"
     ]
    }
   ],
   "source": [
    "chess_data.info()"
   ]
  },
  {
   "cell_type": "code",
   "execution_count": 7,
   "metadata": {
    "execution": {
     "iopub.execute_input": "2023-11-21T04:41:23.162072Z",
     "iopub.status.busy": "2023-11-21T04:41:23.161738Z",
     "iopub.status.idle": "2023-11-21T04:41:23.224189Z",
     "shell.execute_reply": "2023-11-21T04:41:23.223105Z",
     "shell.execute_reply.started": "2023-11-21T04:41:23.162041Z"
    }
   },
   "outputs": [
    {
     "data": {
      "text/plain": [
       "game_id              20058\n",
       "rated                    2\n",
       "turns                  211\n",
       "victory_status           4\n",
       "winner                   3\n",
       "time_increment         400\n",
       "white_id              9438\n",
       "white_rating          1516\n",
       "black_id              9331\n",
       "black_rating          1521\n",
       "moves                18920\n",
       "opening_code           365\n",
       "opening_moves           23\n",
       "opening_fullname      1477\n",
       "opening_shortname      128\n",
       "opening_response         3\n",
       "opening_variation      615\n",
       "dtype: int64"
      ]
     },
     "execution_count": 7,
     "metadata": {},
     "output_type": "execute_result"
    }
   ],
   "source": [
    "chess_data.nunique()"
   ]
  },
  {
   "cell_type": "markdown",
   "metadata": {},
   "source": [
    "Just by checking the head and info of the dataset, we learned a lot of useful information:\n",
    "1. the `time_increment` feature currently contains categorical not numerical values\n",
    "2. Only the `opening_response` and `opening variation` features contains null values\n",
    "3. Around 75% of the samples have a non-null value for the `opening_variation` feature.\n",
    "4. Around  5% of the samples have a non-null value for the `opening_response` feature."
   ]
  },
  {
   "cell_type": "markdown",
   "metadata": {},
   "source": [
    "## Before we decide how to handle the dataset's features, we must first learn what they mean."
   ]
  },
  {
   "cell_type": "markdown",
   "metadata": {},
   "source": [
    "## **1.1 - Opening Features**\n",
    "### In chess, the player controlling the white pieces starts first, and the sequence of starting moves they make is called an **opening**. Most openings have been given standard names and each opening may have **variations** of itself.\n",
    "\n",
    "### Let have a closer look at the opening features alone"
   ]
  },
  {
   "cell_type": "code",
   "execution_count": 8,
   "metadata": {
    "execution": {
     "iopub.execute_input": "2023-11-21T04:41:23.226101Z",
     "iopub.status.busy": "2023-11-21T04:41:23.225768Z",
     "iopub.status.idle": "2023-11-21T04:41:23.256959Z",
     "shell.execute_reply": "2023-11-21T04:41:23.255628Z",
     "shell.execute_reply.started": "2023-11-21T04:41:23.226071Z"
    }
   },
   "outputs": [
    {
     "data": {
      "text/html": [
       "<div>\n",
       "<style scoped>\n",
       "    .dataframe tbody tr th:only-of-type {\n",
       "        vertical-align: middle;\n",
       "    }\n",
       "\n",
       "    .dataframe tbody tr th {\n",
       "        vertical-align: top;\n",
       "    }\n",
       "\n",
       "    .dataframe thead th {\n",
       "        text-align: right;\n",
       "    }\n",
       "</style>\n",
       "<table border=\"1\" class=\"dataframe\">\n",
       "  <thead>\n",
       "    <tr style=\"text-align: right;\">\n",
       "      <th></th>\n",
       "      <th>opening_code</th>\n",
       "      <th>opening_moves</th>\n",
       "      <th>opening_fullname</th>\n",
       "      <th>opening_shortname</th>\n",
       "      <th>opening_response</th>\n",
       "      <th>opening_variation</th>\n",
       "    </tr>\n",
       "  </thead>\n",
       "  <tbody>\n",
       "    <tr>\n",
       "      <th>15058</th>\n",
       "      <td>C33</td>\n",
       "      <td>6</td>\n",
       "      <td>King's Gambit Accepted |  Bishop's Gambit |  M...</td>\n",
       "      <td>King's Gambit</td>\n",
       "      <td>Accepted</td>\n",
       "      <td>NaN</td>\n",
       "    </tr>\n",
       "    <tr>\n",
       "      <th>13545</th>\n",
       "      <td>A58</td>\n",
       "      <td>9</td>\n",
       "      <td>Benko Gambit Accepted |  Fully Accepted Variation</td>\n",
       "      <td>Benko Gambit</td>\n",
       "      <td>Accepted</td>\n",
       "      <td>NaN</td>\n",
       "    </tr>\n",
       "    <tr>\n",
       "      <th>17003</th>\n",
       "      <td>D20</td>\n",
       "      <td>5</td>\n",
       "      <td>Queen's Gambit Accepted: Old Variation</td>\n",
       "      <td>Queen's Gambit</td>\n",
       "      <td>Accepted</td>\n",
       "      <td>Old Variation</td>\n",
       "    </tr>\n",
       "    <tr>\n",
       "      <th>10364</th>\n",
       "      <td>C21</td>\n",
       "      <td>10</td>\n",
       "      <td>Danish Gambit Accepted |  Classical Defense</td>\n",
       "      <td>Danish Gambit</td>\n",
       "      <td>Accepted</td>\n",
       "      <td>NaN</td>\n",
       "    </tr>\n",
       "    <tr>\n",
       "      <th>8992</th>\n",
       "      <td>D31</td>\n",
       "      <td>6</td>\n",
       "      <td>Queen's Gambit Declined: Charousek (Petrosian)...</td>\n",
       "      <td>Queen's Gambit</td>\n",
       "      <td>Declined</td>\n",
       "      <td>Charousek (Petrosian) Variation</td>\n",
       "    </tr>\n",
       "    <tr>\n",
       "      <th>3999</th>\n",
       "      <td>D20</td>\n",
       "      <td>5</td>\n",
       "      <td>Queen's Gambit Accepted: Old Variation</td>\n",
       "      <td>Queen's Gambit</td>\n",
       "      <td>Accepted</td>\n",
       "      <td>Old Variation</td>\n",
       "    </tr>\n",
       "    <tr>\n",
       "      <th>12598</th>\n",
       "      <td>C34</td>\n",
       "      <td>6</td>\n",
       "      <td>King's Gambit Accepted |  Fischer Defense</td>\n",
       "      <td>King's Gambit</td>\n",
       "      <td>Accepted</td>\n",
       "      <td>NaN</td>\n",
       "    </tr>\n",
       "  </tbody>\n",
       "</table>\n",
       "</div>"
      ],
      "text/plain": [
       "      opening_code  opening_moves  \\\n",
       "15058          C33              6   \n",
       "13545          A58              9   \n",
       "17003          D20              5   \n",
       "10364          C21             10   \n",
       "8992           D31              6   \n",
       "3999           D20              5   \n",
       "12598          C34              6   \n",
       "\n",
       "                                        opening_fullname opening_shortname  \\\n",
       "15058  King's Gambit Accepted |  Bishop's Gambit |  M...     King's Gambit   \n",
       "13545  Benko Gambit Accepted |  Fully Accepted Variation      Benko Gambit   \n",
       "17003             Queen's Gambit Accepted: Old Variation    Queen's Gambit   \n",
       "10364        Danish Gambit Accepted |  Classical Defense     Danish Gambit   \n",
       "8992   Queen's Gambit Declined: Charousek (Petrosian)...    Queen's Gambit   \n",
       "3999              Queen's Gambit Accepted: Old Variation    Queen's Gambit   \n",
       "12598          King's Gambit Accepted |  Fischer Defense     King's Gambit   \n",
       "\n",
       "      opening_response                opening_variation  \n",
       "15058         Accepted                              NaN  \n",
       "13545         Accepted                              NaN  \n",
       "17003         Accepted                    Old Variation  \n",
       "10364         Accepted                              NaN  \n",
       "8992          Declined  Charousek (Petrosian) Variation  \n",
       "3999          Accepted                    Old Variation  \n",
       "12598         Accepted                              NaN  "
      ]
     },
     "execution_count": 8,
     "metadata": {},
     "output_type": "execute_result"
    }
   ],
   "source": [
    "opening_features = ['opening_code', 'opening_moves', 'opening_fullname', 'opening_shortname', 'opening_response', 'opening_variation']\n",
    "\n",
    "# non NaN 'opening_response'\n",
    "# I am deliberating printing random rows instead of using head() in order to have a more diverse output since certain openings are much more common than others\n",
    "chess_data[~chess_data['opening_response'].isna()][opening_features].sample(n=7, random_state=21)"
   ]
  },
  {
   "cell_type": "code",
   "execution_count": 9,
   "metadata": {
    "execution": {
     "iopub.execute_input": "2023-11-21T04:41:23.259028Z",
     "iopub.status.busy": "2023-11-21T04:41:23.258565Z",
     "iopub.status.idle": "2023-11-21T04:41:23.285403Z",
     "shell.execute_reply": "2023-11-21T04:41:23.284255Z",
     "shell.execute_reply.started": "2023-11-21T04:41:23.258985Z"
    }
   },
   "outputs": [
    {
     "data": {
      "text/html": [
       "<div>\n",
       "<style scoped>\n",
       "    .dataframe tbody tr th:only-of-type {\n",
       "        vertical-align: middle;\n",
       "    }\n",
       "\n",
       "    .dataframe tbody tr th {\n",
       "        vertical-align: top;\n",
       "    }\n",
       "\n",
       "    .dataframe thead th {\n",
       "        text-align: right;\n",
       "    }\n",
       "</style>\n",
       "<table border=\"1\" class=\"dataframe\">\n",
       "  <thead>\n",
       "    <tr style=\"text-align: right;\">\n",
       "      <th></th>\n",
       "      <th>opening_code</th>\n",
       "      <th>opening_moves</th>\n",
       "      <th>opening_fullname</th>\n",
       "      <th>opening_shortname</th>\n",
       "      <th>opening_response</th>\n",
       "      <th>opening_variation</th>\n",
       "    </tr>\n",
       "  </thead>\n",
       "  <tbody>\n",
       "    <tr>\n",
       "      <th>0</th>\n",
       "      <td>D10</td>\n",
       "      <td>5</td>\n",
       "      <td>Slav Defense: Exchange Variation</td>\n",
       "      <td>Slav Defense</td>\n",
       "      <td>NaN</td>\n",
       "      <td>Exchange Variation</td>\n",
       "    </tr>\n",
       "    <tr>\n",
       "      <th>1</th>\n",
       "      <td>B00</td>\n",
       "      <td>4</td>\n",
       "      <td>Nimzowitsch Defense: Kennedy Variation</td>\n",
       "      <td>Nimzowitsch Defense</td>\n",
       "      <td>NaN</td>\n",
       "      <td>Kennedy Variation</td>\n",
       "    </tr>\n",
       "    <tr>\n",
       "      <th>2</th>\n",
       "      <td>C20</td>\n",
       "      <td>3</td>\n",
       "      <td>King's Pawn Game: Leonardis Variation</td>\n",
       "      <td>King's Pawn Game</td>\n",
       "      <td>NaN</td>\n",
       "      <td>Leonardis Variation</td>\n",
       "    </tr>\n",
       "  </tbody>\n",
       "</table>\n",
       "</div>"
      ],
      "text/plain": [
       "  opening_code  opening_moves                        opening_fullname  \\\n",
       "0          D10              5        Slav Defense: Exchange Variation   \n",
       "1          B00              4  Nimzowitsch Defense: Kennedy Variation   \n",
       "2          C20              3   King's Pawn Game: Leonardis Variation   \n",
       "\n",
       "     opening_shortname opening_response    opening_variation  \n",
       "0         Slav Defense              NaN   Exchange Variation  \n",
       "1  Nimzowitsch Defense              NaN    Kennedy Variation  \n",
       "2     King's Pawn Game              NaN  Leonardis Variation  "
      ]
     },
     "execution_count": 9,
     "metadata": {},
     "output_type": "execute_result"
    }
   ],
   "source": [
    "# NaN 'opening_response'\n",
    "chess_data[chess_data['opening_response'].isna()][opening_features].head(3)"
   ]
  },
  {
   "cell_type": "markdown",
   "metadata": {},
   "source": [
    "We can see that `opening_shortname` contains the standard name of the opening and the player may or may not have played a variation of this opening as evident by the `opening_variation` feature. This means that the `opening_variation` feature containing **NaN** values is a deliberate choice and not due to a lack of data. In other ways, a **NaN** `opening_variation` means that the player used the normal variation of an opening.\n",
    "\n",
    "Some openings involve deliberately attempting to sacrifice one of the pawns in order to gain some advantage. Those openings are usually called **Gambits**. However, the opponent is the one who decides whether to accept or decline this gambit, and this is what the `opening_response` feature expresses. This feature is obviously only applicable if the opening is a gambit in the first place explaining why it has many **NaN** values."
   ]
  },
  {
   "cell_type": "markdown",
   "metadata": {},
   "source": [
    "## **1.2 - `time_increment` Feature**\n",
    "\n",
    "- The `time` portion of `time_increment` is how many minutes **in total** each player is alotted (also known as **main time**).\n",
    "- The `increment` portion of `time_increment` is how many seconds of time are added to a player's **main time** once they complete a move.\n",
    "\n",
    "Thus, for `time_increment=15+10`, each player has 15 minutes of **main time** and is granted 10 additional seconds for each move they make.\n",
    "\n",
    "Knowing this, we can make the following predicions:\n",
    "- A long **main time** could encourage more carefully thought out moves.\n",
    "- A long **increment** could encourage quicker or even rushed moves to gain more thinking time.\n",
    "\n",
    "In this case, the categorical `time_increment` feature certainly plays a large role in deciding the outcome of a game, and it seems to reasonable to split it into two **numerical** features, `time` and `increment`."
   ]
  },
  {
   "cell_type": "code",
   "execution_count": 10,
   "metadata": {
    "execution": {
     "iopub.execute_input": "2023-11-21T04:41:23.287335Z",
     "iopub.status.busy": "2023-11-21T04:41:23.286895Z",
     "iopub.status.idle": "2023-11-21T04:41:23.461441Z",
     "shell.execute_reply": "2023-11-21T04:41:23.460183Z",
     "shell.execute_reply.started": "2023-11-21T04:41:23.287301Z"
    }
   },
   "outputs": [],
   "source": [
    "# split the time_increment into 2 features, time and increment\n",
    "chess_data[['time', 'increment']] = chess_data['time_increment'].str.split('+', expand=True)\n",
    "\n",
    "# convert column type to numeric\n",
    "chess_data['time'] = pd.to_numeric(chess_data['time'])\n",
    "chess_data['increment'] = pd.to_numeric(chess_data['increment'])"
   ]
  },
  {
   "cell_type": "code",
   "execution_count": 11,
   "metadata": {
    "execution": {
     "iopub.execute_input": "2023-11-21T04:41:23.463321Z",
     "iopub.status.busy": "2023-11-21T04:41:23.462958Z",
     "iopub.status.idle": "2023-11-21T04:41:25.190876Z",
     "shell.execute_reply": "2023-11-21T04:41:25.189642Z",
     "shell.execute_reply.started": "2023-11-21T04:41:23.463290Z"
    }
   },
   "outputs": [
    {
     "data": {
      "image/png": "[encoded data removed]",
      "text/plain": [
       "<Figure size 2000x500 with 2 Axes>"
      ]
     },
     "metadata": {},
     "output_type": "display_data"
    }
   ],
   "source": [
    "# Plotting `time` and `increment` count plots \n",
    "\n",
    "sns.set_style(\"whitegrid\")\n",
    "plt.figure(figsize=(20, 5))\n",
    "\n",
    "plt.subplot(1, 3, 1)\n",
    "plt.xticks(rotation=90)\n",
    "sns.countplot(x='time', data=chess_data)\n",
    "plt.title('Main Time')\n",
    "\n",
    "plt.subplot(1, 3, 2)\n",
    "plt.xticks(rotation=90)\n",
    "sns.countplot(x='increment', data=chess_data)\n",
    "plt.title('Increment Time')\n",
    "\n",
    "plt.tight_layout()\n",
    "plt.show()"
   ]
  },
  {
   "cell_type": "markdown",
   "metadata": {},
   "source": [
    "## **1.3 - `victory_status`, `turns`, and `white/black_rating` Features**\n",
    "We will generate the following three graphs:\n",
    "1. Games outcome (`victory_status`)\n",
    "2. Number of turns in games (`turns`)\n",
    "3. The rating of players (`white_rating` and `black_rating`) compared with the game outcome (`winner`)"
   ]
  },
  {
   "cell_type": "code",
   "execution_count": 12,
   "metadata": {
    "execution": {
     "iopub.execute_input": "2023-11-21T04:41:25.193494Z",
     "iopub.status.busy": "2023-11-21T04:41:25.193052Z",
     "iopub.status.idle": "2023-11-21T04:41:26.988956Z",
     "shell.execute_reply": "2023-11-21T04:41:26.987580Z",
     "shell.execute_reply.started": "2023-11-21T04:41:25.193451Z"
    }
   },
   "outputs": [
    {
     "data": {
      "image/png": "[encoded data removed]",
      "text/plain": [
       "<Figure size 2000x500 with 3 Axes>"
      ]
     },
     "metadata": {},
     "output_type": "display_data"
    }
   ],
   "source": [
    "# import matplotlib.pyplot as plt\n",
    "# import seaborn as sns\n",
    "\n",
    "# Set style of the plots\n",
    "sns.set_style(\"whitegrid\")\n",
    "\n",
    "# Initialize the figure\n",
    "plt.figure(figsize=(20, 5))\n",
    "\n",
    "\n",
    "# Distribution of game outcomes (victory_status)\n",
    "plt.subplot(1, 3, 1)\n",
    "sns.countplot(data=chess_data, x='victory_status', order = chess_data['victory_status'].value_counts().index)\n",
    "plt.title('Game Outcomes')\n",
    "\n",
    "# Distribution of the number of turns in games (turns)\n",
    "plt.subplot(1, 3, 2)\n",
    "sns.histplot(data=chess_data, x='turns', bins=30, kde=True)\n",
    "plt.title('Number Of Turns in Games')\n",
    "\n",
    "\n",
    "# The rating of players (white_rating and black_rating) comapred with the game outcome ('winner')\n",
    "ratings_df = chess_data[['white_rating', 'black_rating', 'winner']].melt(id_vars='winner', var_name='player_color', value_name='rating')\n",
    "\n",
    "plt.subplot(1, 3, 3)\n",
    "sns.boxplot(data=ratings_df, x='winner', y='rating', hue='player_color')\n",
    "plt.title('Player Ratings by Game Outcome')\n",
    "\n",
    "# Adjust layout\n",
    "plt.tight_layout()\n",
    "\n",
    "# Show the plots\n",
    "plt.show()"
   ]
  },
  {
   "cell_type": "markdown",
   "metadata": {},
   "source": [
    "**Games Outcomes:** This bar chart shows the frequency of different victory statuses. The categrories include 'Resign' where one player resigned, 'Mate' where one player checkmates the other, 'Out of Time' where one player ran out of time, and 'Draw' where the game finished in a draw. This bar graph suggests that 'Resign' is the emost common outcome followed by 'Mate'.\n",
    "\n",
    "**Number of Turns in Games:** This histogram represent the distibution of number of turns/moves in the game. The shape of the histogram appears to be right-skewed, which suggest that most games end with less moves, and fewer games takes large number of moves.\n",
    "\n",
    "**Player Rating by Games Outcome:** This boxplot compares the chess rating of players based on the outcome of the game. This graph indicates that the rating of players vary with each game outcome which suggests that draws occur more frequently among players with the same rating."
   ]
  },
  {
   "cell_type": "markdown",
   "metadata": {},
   "source": [
    "## **2 - Data Cleaning**\n",
    "## **2.1 - Dropping the columns we're not interested in**"
   ]
  },
  {
   "cell_type": "code",
   "execution_count": 13,
   "metadata": {
    "execution": {
     "iopub.execute_input": "2023-11-21T04:41:26.990997Z",
     "iopub.status.busy": "2023-11-21T04:41:26.990545Z",
     "iopub.status.idle": "2023-11-21T04:41:27.028690Z",
     "shell.execute_reply": "2023-11-21T04:41:27.027674Z",
     "shell.execute_reply.started": "2023-11-21T04:41:26.990949Z"
    }
   },
   "outputs": [],
   "source": [
    "chess_data = chess_data.drop(['game_id'], axis = 1)\n",
    "\n",
    "# whether the game affects the players' rating (score/mmr/elo) or not\n",
    "chess_data = chess_data.drop(['rated'], axis = 1)\n",
    "\n",
    "# the full sequence of moves made\n",
    "chess_data = chess_data.drop(['moves'], axis = 1)\n",
    "\n",
    "# We want to predict whether an arbitrary player wins/loses/draws\n",
    "# not if a specific player in this dataset has a higher chance of winning/losing/drawing...\n",
    "chess_data = chess_data.drop(['white_id'], axis = 1)\n",
    "chess_data = chess_data.drop(['black_id'], axis = 1)\n",
    "\n",
    "\n",
    "# opening_code column combines this information in 1 column\n",
    "chess_data = chess_data.drop(['opening_moves'], axis = 1)\n",
    "chess_data = chess_data.drop(['opening_fullname'], axis = 1)\n",
    "chess_data = chess_data.drop(['opening_shortname'], axis = 1)"
   ]
  },
  {
   "cell_type": "markdown",
   "metadata": {},
   "source": [
    "## **2.2 - Handling NaN Values**"
   ]
  },
  {
   "cell_type": "code",
   "execution_count": 14,
   "metadata": {
    "execution": {
     "iopub.execute_input": "2023-11-21T04:41:27.033342Z",
     "iopub.status.busy": "2023-11-21T04:41:27.032986Z",
     "iopub.status.idle": "2023-11-21T04:41:27.054991Z",
     "shell.execute_reply": "2023-11-21T04:41:27.053896Z",
     "shell.execute_reply.started": "2023-11-21T04:41:27.033312Z"
    }
   },
   "outputs": [
    {
     "name": "stdout",
     "output_type": "stream",
     "text": [
      "Feature            Data Type     Null Count\n",
      "---------------------------------------------\n",
      "turns              int64              0\n",
      "victory_status     object             0\n",
      "winner             object             0\n",
      "time_increment     object             0\n",
      "white_rating       int64              0\n",
      "black_rating       int64              0\n",
      "opening_code       object             0\n",
      "opening_response   object             18851\n",
      "opening_variation  object             5660\n",
      "time               int64              0\n",
      "increment          int64              0\n"
     ]
    }
   ],
   "source": [
    "missing_values = chess_data.isnull().sum()\n",
    "datatypes = chess_data.dtypes\n",
    "columns = chess_data.columns\n",
    "\n",
    "print(f'{\"Feature\":18} Data Type     Null Count')\n",
    "print('---------------------------------------------')\n",
    "for i in range(len(columns)):\n",
    "    print(f'{columns[i]:18} {str(datatypes[i]):18} {missing_values[i]}')\n"
   ]
  },
  {
   "cell_type": "markdown",
   "metadata": {},
   "source": [
    "As we mentioned previously, `opening_response` and `opening_response` are **NaN** deliberately. Thus, methods like using the **most_common** `opening_response` or `opening_variation` to fill the **NaN** values don't make sense\n",
    "\n",
    "We will instead:\n",
    "- replace all the **NaN** values of `opening_variation` with **Standard** signifying that the standard opening was played with no variation\n",
    "- replace all the **NaN** values of `opening_response` with **Not Applicable**"
   ]
  },
  {
   "cell_type": "code",
   "execution_count": 15,
   "metadata": {
    "execution": {
     "iopub.execute_input": "2023-11-21T04:41:27.056754Z",
     "iopub.status.busy": "2023-11-21T04:41:27.056373Z",
     "iopub.status.idle": "2023-11-21T04:41:27.077691Z",
     "shell.execute_reply": "2023-11-21T04:41:27.076648Z",
     "shell.execute_reply.started": "2023-11-21T04:41:27.056714Z"
    }
   },
   "outputs": [],
   "source": [
    "chess_data = chess_data.fillna({\n",
    "    'opening_variation': 'Standard',\n",
    "    'opening_response': 'Not Applicable'\n",
    "})"
   ]
  },
  {
   "cell_type": "markdown",
   "metadata": {},
   "source": [
    "## **2.3 - Handling duplicate rows**"
   ]
  },
  {
   "cell_type": "code",
   "execution_count": 16,
   "metadata": {
    "execution": {
     "iopub.execute_input": "2023-11-21T04:41:27.079786Z",
     "iopub.status.busy": "2023-11-21T04:41:27.079322Z",
     "iopub.status.idle": "2023-11-21T04:41:27.120945Z",
     "shell.execute_reply": "2023-11-21T04:41:27.119683Z",
     "shell.execute_reply.started": "2023-11-21T04:41:27.079733Z"
    }
   },
   "outputs": [
    {
     "data": {
      "text/html": [
       "<div>\n",
       "<style scoped>\n",
       "    .dataframe tbody tr th:only-of-type {\n",
       "        vertical-align: middle;\n",
       "    }\n",
       "\n",
       "    .dataframe tbody tr th {\n",
       "        vertical-align: top;\n",
       "    }\n",
       "\n",
       "    .dataframe thead th {\n",
       "        text-align: right;\n",
       "    }\n",
       "</style>\n",
       "<table border=\"1\" class=\"dataframe\">\n",
       "  <thead>\n",
       "    <tr style=\"text-align: right;\">\n",
       "      <th></th>\n",
       "      <th>turns</th>\n",
       "      <th>victory_status</th>\n",
       "      <th>winner</th>\n",
       "      <th>time_increment</th>\n",
       "      <th>white_rating</th>\n",
       "      <th>black_rating</th>\n",
       "      <th>opening_code</th>\n",
       "      <th>opening_response</th>\n",
       "      <th>opening_variation</th>\n",
       "      <th>time</th>\n",
       "      <th>increment</th>\n",
       "    </tr>\n",
       "  </thead>\n",
       "  <tbody>\n",
       "    <tr>\n",
       "      <th>950</th>\n",
       "      <td>50</td>\n",
       "      <td>Resign</td>\n",
       "      <td>Black</td>\n",
       "      <td>10+0</td>\n",
       "      <td>2036</td>\n",
       "      <td>1706</td>\n",
       "      <td>A08</td>\n",
       "      <td>Not Applicable</td>\n",
       "      <td>French Variation</td>\n",
       "      <td>10</td>\n",
       "      <td>0</td>\n",
       "    </tr>\n",
       "    <tr>\n",
       "      <th>1794</th>\n",
       "      <td>59</td>\n",
       "      <td>Mate</td>\n",
       "      <td>White</td>\n",
       "      <td>10+0</td>\n",
       "      <td>1171</td>\n",
       "      <td>1432</td>\n",
       "      <td>A29</td>\n",
       "      <td>Not Applicable</td>\n",
       "      <td>King's English Variation</td>\n",
       "      <td>10</td>\n",
       "      <td>0</td>\n",
       "    </tr>\n",
       "    <tr>\n",
       "      <th>1830</th>\n",
       "      <td>113</td>\n",
       "      <td>Mate</td>\n",
       "      <td>White</td>\n",
       "      <td>10+0</td>\n",
       "      <td>1403</td>\n",
       "      <td>1364</td>\n",
       "      <td>C00</td>\n",
       "      <td>Not Applicable</td>\n",
       "      <td>Steinitz Attack</td>\n",
       "      <td>10</td>\n",
       "      <td>0</td>\n",
       "    </tr>\n",
       "    <tr>\n",
       "      <th>2554</th>\n",
       "      <td>78</td>\n",
       "      <td>Mate</td>\n",
       "      <td>Black</td>\n",
       "      <td>15+0</td>\n",
       "      <td>1309</td>\n",
       "      <td>1393</td>\n",
       "      <td>B01</td>\n",
       "      <td>Not Applicable</td>\n",
       "      <td>Mieses-Kotroc Variation</td>\n",
       "      <td>15</td>\n",
       "      <td>0</td>\n",
       "    </tr>\n",
       "    <tr>\n",
       "      <th>2556</th>\n",
       "      <td>51</td>\n",
       "      <td>Mate</td>\n",
       "      <td>White</td>\n",
       "      <td>15+0</td>\n",
       "      <td>1393</td>\n",
       "      <td>1309</td>\n",
       "      <td>D04</td>\n",
       "      <td>Not Applicable</td>\n",
       "      <td>Colle System</td>\n",
       "      <td>15</td>\n",
       "      <td>0</td>\n",
       "    </tr>\n",
       "    <tr>\n",
       "      <th>...</th>\n",
       "      <td>...</td>\n",
       "      <td>...</td>\n",
       "      <td>...</td>\n",
       "      <td>...</td>\n",
       "      <td>...</td>\n",
       "      <td>...</td>\n",
       "      <td>...</td>\n",
       "      <td>...</td>\n",
       "      <td>...</td>\n",
       "      <td>...</td>\n",
       "      <td>...</td>\n",
       "    </tr>\n",
       "    <tr>\n",
       "      <th>20013</th>\n",
       "      <td>95</td>\n",
       "      <td>Resign</td>\n",
       "      <td>Black</td>\n",
       "      <td>45+45</td>\n",
       "      <td>2094</td>\n",
       "      <td>2228</td>\n",
       "      <td>C60</td>\n",
       "      <td>Not Applicable</td>\n",
       "      <td>Fianchetto Defense</td>\n",
       "      <td>45</td>\n",
       "      <td>45</td>\n",
       "    </tr>\n",
       "    <tr>\n",
       "      <th>20014</th>\n",
       "      <td>109</td>\n",
       "      <td>Draw</td>\n",
       "      <td>Draw</td>\n",
       "      <td>45+45</td>\n",
       "      <td>2229</td>\n",
       "      <td>2220</td>\n",
       "      <td>C54</td>\n",
       "      <td>Not Applicable</td>\n",
       "      <td>Classical Variation</td>\n",
       "      <td>45</td>\n",
       "      <td>45</td>\n",
       "    </tr>\n",
       "    <tr>\n",
       "      <th>20015</th>\n",
       "      <td>42</td>\n",
       "      <td>Resign</td>\n",
       "      <td>Black</td>\n",
       "      <td>7+30</td>\n",
       "      <td>2162</td>\n",
       "      <td>2214</td>\n",
       "      <td>E11</td>\n",
       "      <td>Not Applicable</td>\n",
       "      <td>Wade-Smyslov Variation</td>\n",
       "      <td>7</td>\n",
       "      <td>30</td>\n",
       "    </tr>\n",
       "    <tr>\n",
       "      <th>20016</th>\n",
       "      <td>102</td>\n",
       "      <td>Resign</td>\n",
       "      <td>Black</td>\n",
       "      <td>7+30</td>\n",
       "      <td>2236</td>\n",
       "      <td>2148</td>\n",
       "      <td>B06</td>\n",
       "      <td>Not Applicable</td>\n",
       "      <td>Standard</td>\n",
       "      <td>7</td>\n",
       "      <td>30</td>\n",
       "    </tr>\n",
       "    <tr>\n",
       "      <th>20017</th>\n",
       "      <td>97</td>\n",
       "      <td>Resign</td>\n",
       "      <td>White</td>\n",
       "      <td>60+30</td>\n",
       "      <td>2268</td>\n",
       "      <td>2254</td>\n",
       "      <td>C59</td>\n",
       "      <td>Not Applicable</td>\n",
       "      <td>Two Knights Defense</td>\n",
       "      <td>60</td>\n",
       "      <td>30</td>\n",
       "    </tr>\n",
       "  </tbody>\n",
       "</table>\n",
       "<p>948 rows × 11 columns</p>\n",
       "</div>"
      ],
      "text/plain": [
       "       turns victory_status winner time_increment  white_rating  black_rating  \\\n",
       "950       50         Resign  Black           10+0          2036          1706   \n",
       "1794      59           Mate  White           10+0          1171          1432   \n",
       "1830     113           Mate  White           10+0          1403          1364   \n",
       "2554      78           Mate  Black           15+0          1309          1393   \n",
       "2556      51           Mate  White           15+0          1393          1309   \n",
       "...      ...            ...    ...            ...           ...           ...   \n",
       "20013     95         Resign  Black          45+45          2094          2228   \n",
       "20014    109           Draw   Draw          45+45          2229          2220   \n",
       "20015     42         Resign  Black           7+30          2162          2214   \n",
       "20016    102         Resign  Black           7+30          2236          2148   \n",
       "20017     97         Resign  White          60+30          2268          2254   \n",
       "\n",
       "      opening_code opening_response         opening_variation  time  increment  \n",
       "950            A08   Not Applicable          French Variation    10          0  \n",
       "1794           A29   Not Applicable  King's English Variation    10          0  \n",
       "1830           C00   Not Applicable           Steinitz Attack    10          0  \n",
       "2554           B01   Not Applicable   Mieses-Kotroc Variation    15          0  \n",
       "2556           D04   Not Applicable              Colle System    15          0  \n",
       "...            ...              ...                       ...   ...        ...  \n",
       "20013          C60   Not Applicable        Fianchetto Defense    45         45  \n",
       "20014          C54   Not Applicable       Classical Variation    45         45  \n",
       "20015          E11   Not Applicable    Wade-Smyslov Variation     7         30  \n",
       "20016          B06   Not Applicable                  Standard     7         30  \n",
       "20017          C59   Not Applicable       Two Knights Defense    60         30  \n",
       "\n",
       "[948 rows x 11 columns]"
      ]
     },
     "execution_count": 16,
     "metadata": {},
     "output_type": "execute_result"
    }
   ],
   "source": [
    "duplicate_rows = chess_data[chess_data.duplicated()]\n",
    "duplicate_rows"
   ]
  },
  {
   "cell_type": "markdown",
   "metadata": {},
   "source": [
    "While one reading this may be tempted to say that the duplicate rows are actually meaningful data signifying that more than one player using the same game strategy reached the same game outcome, two features reject this hypothesis, `white_rating` and `black_rating`.\n",
    "\n",
    "####  It is very unlikely that in 2 games, players with identical `white_rating` and `black_rating` played the same exact opening, reached the same game outcome, and **in the same number of turns**.\n",
    "Hence, these duplicate rows must be the result of some mistake in data collection and not meaningful data, so we will drop them."
   ]
  },
  {
   "cell_type": "code",
   "execution_count": 17,
   "metadata": {
    "execution": {
     "iopub.execute_input": "2023-11-21T04:41:27.123057Z",
     "iopub.status.busy": "2023-11-21T04:41:27.122628Z",
     "iopub.status.idle": "2023-11-21T04:41:27.151720Z",
     "shell.execute_reply": "2023-11-21T04:41:27.150825Z",
     "shell.execute_reply.started": "2023-11-21T04:41:27.123017Z"
    }
   },
   "outputs": [
    {
     "data": {
      "text/plain": [
       "(19110, 11)"
      ]
     },
     "execution_count": 17,
     "metadata": {},
     "output_type": "execute_result"
    }
   ],
   "source": [
    "# Drop duplicates\n",
    "chess_data = chess_data.drop_duplicates()\n",
    "\n",
    "chess_data.shape"
   ]
  },
  {
   "cell_type": "markdown",
   "metadata": {},
   "source": [
    "## **3 - Data Preprocessing & Columnn Transformation**\n",
    "Data Pipeline's for **numerical** and **categorical** columns using StandardScaler for integers and OneHotEncoder for categorical values that we have specified to be preprocessed"
   ]
  },
  {
   "cell_type": "markdown",
   "metadata": {},
   "source": [
    "## **3.1 - Data Transformers and Pipelines**"
   ]
  },
  {
   "cell_type": "code",
   "execution_count": 18,
   "metadata": {
    "execution": {
     "iopub.execute_input": "2023-11-21T04:41:27.153909Z",
     "iopub.status.busy": "2023-11-21T04:41:27.153241Z",
     "iopub.status.idle": "2023-11-21T04:41:27.611344Z",
     "shell.execute_reply": "2023-11-21T04:41:27.609883Z",
     "shell.execute_reply.started": "2023-11-21T04:41:27.153876Z"
    }
   },
   "outputs": [],
   "source": [
    "# necessary library imports\n",
    "from sklearn.preprocessing import StandardScaler, OneHotEncoder\n",
    "from sklearn.compose import ColumnTransformer\n",
    "from sklearn.pipeline import Pipeline\n",
    "\n",
    "from sklearn.model_selection import train_test_split\n",
    "from sklearn.linear_model import LogisticRegression\n",
    "from sklearn.ensemble import RandomForestClassifier, GradientBoostingClassifier"
   ]
  },
  {
   "cell_type": "code",
   "execution_count": 19,
   "metadata": {
    "execution": {
     "iopub.execute_input": "2023-11-21T04:41:27.613546Z",
     "iopub.status.busy": "2023-11-21T04:41:27.613080Z",
     "iopub.status.idle": "2023-11-21T04:41:27.643551Z",
     "shell.execute_reply": "2023-11-21T04:41:27.642343Z",
     "shell.execute_reply.started": "2023-11-21T04:41:27.613512Z"
    }
   },
   "outputs": [
    {
     "data": {
      "text/html": [
       "<style>#sk-container-id-1 {color: black;background-color: white;}#sk-container-id-1 pre{padding: 0;}#sk-container-id-1 div.sk-toggleable {background-color: white;}#sk-container-id-1 label.sk-toggleable__label {cursor: pointer;display: block;width: 100%;margin-bottom: 0;padding: 0.3em;box-sizing: border-box;text-align: center;}#sk-container-id-1 label.sk-toggleable__label-arrow:before {content: \"▸\";float: left;margin-right: 0.25em;color: #696969;}#sk-container-id-1 label.sk-toggleable__label-arrow:hover:before {color: black;}#sk-container-id-1 div.sk-estimator:hover label.sk-toggleable__label-arrow:before {color: black;}#sk-container-id-1 div.sk-toggleable__content {max-height: 0;max-width: 0;overflow: hidden;text-align: left;background-color: #f0f8ff;}#sk-container-id-1 div.sk-toggleable__content pre {margin: 0.2em;color: black;border-radius: 0.25em;background-color: #f0f8ff;}#sk-container-id-1 input.sk-toggleable__control:checked~div.sk-toggleable__content {max-height: 200px;max-width: 100%;overflow: auto;}#sk-container-id-1 input.sk-toggleable__control:checked~label.sk-toggleable__label-arrow:before {content: \"▾\";}#sk-container-id-1 div.sk-estimator input.sk-toggleable__control:checked~label.sk-toggleable__label {background-color: #d4ebff;}#sk-container-id-1 div.sk-label input.sk-toggleable__control:checked~label.sk-toggleable__label {background-color: #d4ebff;}#sk-container-id-1 input.sk-hidden--visually {border: 0;clip: rect(1px 1px 1px 1px);clip: rect(1px, 1px, 1px, 1px);height: 1px;margin: -1px;overflow: hidden;padding: 0;position: absolute;width: 1px;}#sk-container-id-1 div.sk-estimator {font-family: monospace;background-color: #f0f8ff;border: 1px dotted black;border-radius: 0.25em;box-sizing: border-box;margin-bottom: 0.5em;}#sk-container-id-1 div.sk-estimator:hover {background-color: #d4ebff;}#sk-container-id-1 div.sk-parallel-item::after {content: \"\";width: 100%;border-bottom: 1px solid gray;flex-grow: 1;}#sk-container-id-1 div.sk-label:hover label.sk-toggleable__label {background-color: #d4ebff;}#sk-container-id-1 div.sk-serial::before {content: \"\";position: absolute;border-left: 1px solid gray;box-sizing: border-box;top: 0;bottom: 0;left: 50%;z-index: 0;}#sk-container-id-1 div.sk-serial {display: flex;flex-direction: column;align-items: center;background-color: white;padding-right: 0.2em;padding-left: 0.2em;position: relative;}#sk-container-id-1 div.sk-item {position: relative;z-index: 1;}#sk-container-id-1 div.sk-parallel {display: flex;align-items: stretch;justify-content: center;background-color: white;position: relative;}#sk-container-id-1 div.sk-item::before, #sk-container-id-1 div.sk-parallel-item::before {content: \"\";position: absolute;border-left: 1px solid gray;box-sizing: border-box;top: 0;bottom: 0;left: 50%;z-index: -1;}#sk-container-id-1 div.sk-parallel-item {display: flex;flex-direction: column;z-index: 1;position: relative;background-color: white;}#sk-container-id-1 div.sk-parallel-item:first-child::after {align-self: flex-end;width: 50%;}#sk-container-id-1 div.sk-parallel-item:last-child::after {align-self: flex-start;width: 50%;}#sk-container-id-1 div.sk-parallel-item:only-child::after {width: 0;}#sk-container-id-1 div.sk-dashed-wrapped {border: 1px dashed gray;margin: 0 0.4em 0.5em 0.4em;box-sizing: border-box;padding-bottom: 0.4em;background-color: white;}#sk-container-id-1 div.sk-label label {font-family: monospace;font-weight: bold;display: inline-block;line-height: 1.2em;}#sk-container-id-1 div.sk-label-container {text-align: center;}#sk-container-id-1 div.sk-container {/* jupyter's `normalize.less` sets `[hidden] { display: none; }` but bootstrap.min.css set `[hidden] { display: none !important; }` so we also need the `!important` here to be able to override the default hidden behavior on the sphinx rendered scikit-learn.org. See: https://github.com/scikit-learn/scikit-learn/issues/21755 */display: inline-block !important;position: relative;}#sk-container-id-1 div.sk-text-repr-fallback {display: none;}</style><div id=\"sk-container-id-1\" class=\"sk-top-container\"><div class=\"sk-text-repr-fallback\"><pre>ColumnTransformer(transformers=[(&#x27;num&#x27;,\n",
       "                                 Pipeline(steps=[(&#x27;scaler&#x27;, StandardScaler())]),\n",
       "                                 [&#x27;turns&#x27;, &#x27;white_rating&#x27;, &#x27;black_rating&#x27;,\n",
       "                                  &#x27;time&#x27;, &#x27;increment&#x27;]),\n",
       "                                (&#x27;cat&#x27;,\n",
       "                                 Pipeline(steps=[(&#x27;onehot&#x27;,\n",
       "                                                  OneHotEncoder(handle_unknown=&#x27;ignore&#x27;))]),\n",
       "                                 [&#x27;opening_code&#x27;])])</pre><b>In a Jupyter environment, please rerun this cell to show the HTML representation or trust the notebook. <br />On GitHub, the HTML representation is unable to render, please try loading this page with nbviewer.org.</b></div><div class=\"sk-container\" hidden><div class=\"sk-item sk-dashed-wrapped\"><div class=\"sk-label-container\"><div class=\"sk-label sk-toggleable\"><input class=\"sk-toggleable__control sk-hidden--visually\" id=\"sk-estimator-id-1\" type=\"checkbox\" ><label for=\"sk-estimator-id-1\" class=\"sk-toggleable__label sk-toggleable__label-arrow\">ColumnTransformer</label><div class=\"sk-toggleable__content\"><pre>ColumnTransformer(transformers=[(&#x27;num&#x27;,\n",
       "                                 Pipeline(steps=[(&#x27;scaler&#x27;, StandardScaler())]),\n",
       "                                 [&#x27;turns&#x27;, &#x27;white_rating&#x27;, &#x27;black_rating&#x27;,\n",
       "                                  &#x27;time&#x27;, &#x27;increment&#x27;]),\n",
       "                                (&#x27;cat&#x27;,\n",
       "                                 Pipeline(steps=[(&#x27;onehot&#x27;,\n",
       "                                                  OneHotEncoder(handle_unknown=&#x27;ignore&#x27;))]),\n",
       "                                 [&#x27;opening_code&#x27;])])</pre></div></div></div><div class=\"sk-parallel\"><div class=\"sk-parallel-item\"><div class=\"sk-item\"><div class=\"sk-label-container\"><div class=\"sk-label sk-toggleable\"><input class=\"sk-toggleable__control sk-hidden--visually\" id=\"sk-estimator-id-2\" type=\"checkbox\" ><label for=\"sk-estimator-id-2\" class=\"sk-toggleable__label sk-toggleable__label-arrow\">num</label><div class=\"sk-toggleable__content\"><pre>[&#x27;turns&#x27;, &#x27;white_rating&#x27;, &#x27;black_rating&#x27;, &#x27;time&#x27;, &#x27;increment&#x27;]</pre></div></div></div><div class=\"sk-serial\"><div class=\"sk-item\"><div class=\"sk-serial\"><div class=\"sk-item\"><div class=\"sk-estimator sk-toggleable\"><input class=\"sk-toggleable__control sk-hidden--visually\" id=\"sk-estimator-id-3\" type=\"checkbox\" ><label for=\"sk-estimator-id-3\" class=\"sk-toggleable__label sk-toggleable__label-arrow\">StandardScaler</label><div class=\"sk-toggleable__content\"><pre>StandardScaler()</pre></div></div></div></div></div></div></div></div><div class=\"sk-parallel-item\"><div class=\"sk-item\"><div class=\"sk-label-container\"><div class=\"sk-label sk-toggleable\"><input class=\"sk-toggleable__control sk-hidden--visually\" id=\"sk-estimator-id-4\" type=\"checkbox\" ><label for=\"sk-estimator-id-4\" class=\"sk-toggleable__label sk-toggleable__label-arrow\">cat</label><div class=\"sk-toggleable__content\"><pre>[&#x27;opening_code&#x27;]</pre></div></div></div><div class=\"sk-serial\"><div class=\"sk-item\"><div class=\"sk-serial\"><div class=\"sk-item\"><div class=\"sk-estimator sk-toggleable\"><input class=\"sk-toggleable__control sk-hidden--visually\" id=\"sk-estimator-id-5\" type=\"checkbox\" ><label for=\"sk-estimator-id-5\" class=\"sk-toggleable__label sk-toggleable__label-arrow\">OneHotEncoder</label><div class=\"sk-toggleable__content\"><pre>OneHotEncoder(handle_unknown=&#x27;ignore&#x27;)</pre></div></div></div></div></div></div></div></div></div></div></div></div>"
      ],
      "text/plain": [
       "ColumnTransformer(transformers=[('num',\n",
       "                                 Pipeline(steps=[('scaler', StandardScaler())]),\n",
       "                                 ['turns', 'white_rating', 'black_rating',\n",
       "                                  'time', 'increment']),\n",
       "                                ('cat',\n",
       "                                 Pipeline(steps=[('onehot',\n",
       "                                                  OneHotEncoder(handle_unknown='ignore'))]),\n",
       "                                 ['opening_code'])])"
      ]
     },
     "execution_count": 19,
     "metadata": {},
     "output_type": "execute_result"
    }
   ],
   "source": [
    "# Separate features and target variable\n",
    "X = chess_data.drop(['winner'], axis=1)\n",
    "y = chess_data['winner']\n",
    "\n",
    "# Define numerical and categorical features\n",
    "num_features = ['turns', 'white_rating', 'black_rating', 'time', 'increment']\n",
    "cat_features = ['opening_code']\n",
    "\n",
    "# Create transformers for numerical and categorical features\n",
    "num_transformer = Pipeline(steps=[\n",
    "    ('scaler', StandardScaler())\n",
    "])\n",
    "\n",
    "cat_transformer = Pipeline(steps=[\n",
    "    ('onehot', OneHotEncoder(handle_unknown='ignore'))\n",
    "])\n",
    "\n",
    "# Use ColumnTransformer to apply transformers to the correct columns\n",
    "preprocessor = ColumnTransformer(\n",
    "    transformers=[\n",
    "        ('num', num_transformer, num_features),\n",
    "        ('cat', cat_transformer, cat_features)\n",
    "    ])\n",
    "preprocessor"
   ]
  },
  {
   "cell_type": "markdown",
   "metadata": {},
   "source": [
    "# Model Pipelines\n",
    "Create Specific Pipelines for the selected machine learning algorithms:\n",
    "\n",
    "\n",
    "<u>Random Forest (RF): </u>\n",
    "<br>\n",
    "Random Forest is an ensemble learning method used for both classification and regression tasks. It constructs multiple decision trees and combines their predictions.\n",
    "<br>\n",
    "\n",
    "\n",
    "<u>Gradient Boosting (GB): </u>\n",
    "<br>\n",
    "Gradient Boosting is also an ensemble learning method that builds a series of weak learners (typically decision trees) sequentially. It focuses on correcting errors made by the previous models.\n",
    "<br>\n",
    "\n",
    "\n",
    "<u>Logistics Regression (LR): </u>\n",
    "<br>\n",
    "Logistic Regression is a binary classification algorithm used to predict the probability that an instance belongs to a particular class (typically 0 or 1).\n",
    "<br>\n",
    "<br>\n",
    "<br>\n",
    "At the end of this block we split the data 80-20 for training and testing"
   ]
  },
  {
   "cell_type": "markdown",
   "metadata": {},
   "source": [
    "## **3.2 - Machine Learning Model Pipelines**"
   ]
  },
  {
   "cell_type": "code",
   "execution_count": 20,
   "metadata": {
    "execution": {
     "iopub.execute_input": "2023-11-21T04:41:27.645492Z",
     "iopub.status.busy": "2023-11-21T04:41:27.645036Z",
     "iopub.status.idle": "2023-11-21T04:41:27.662643Z",
     "shell.execute_reply": "2023-11-21T04:41:27.661378Z",
     "shell.execute_reply.started": "2023-11-21T04:41:27.645458Z"
    }
   },
   "outputs": [],
   "source": [
    "# Create the pipeline with the preprocessing step and the classifier\n",
    "rf_pipeline = Pipeline(steps=[('preprocessor', preprocessor),\n",
    "                            ('classifier', RandomForestClassifier(random_state=42))])\n",
    "\n",
    "gb_pipeline = Pipeline(steps=[('preprocessor', preprocessor),\n",
    "                               ('classifier', GradientBoostingClassifier(random_state=42))])\n",
    "\n",
    "lr_pipeline = Pipeline(steps=[('preprocessor', preprocessor),\n",
    "                               ('classifier', LogisticRegression(random_state=42))])\n",
    "\n",
    "# Split the data into training and testing sets\n",
    "X_train, X_test, y_train, y_test = train_test_split(X, y, test_size=0.2, random_state=42)"
   ]
  },
  {
   "cell_type": "markdown",
   "metadata": {},
   "source": [
    "#  **4 - Algorithm Evaluation's**"
   ]
  },
  {
   "cell_type": "code",
   "execution_count": 21,
   "metadata": {
    "execution": {
     "iopub.execute_input": "2023-11-21T04:41:27.666144Z",
     "iopub.status.busy": "2023-11-21T04:41:27.665681Z",
     "iopub.status.idle": "2023-11-21T04:41:51.137394Z",
     "shell.execute_reply": "2023-11-21T04:41:51.136313Z",
     "shell.execute_reply.started": "2023-11-21T04:41:27.666103Z"
    }
   },
   "outputs": [
    {
     "name": "stdout",
     "output_type": "stream",
     "text": [
      "Random Forest Accuracy: 0.619570905285191\n",
      "Random Forest Classification Report:\n",
      "              precision    recall  f1-score   support\n",
      "\n",
      "       Black       0.61      0.63      0.62      1766\n",
      "        Draw       0.18      0.01      0.02       182\n",
      "       White       0.63      0.67      0.65      1874\n",
      "\n",
      "    accuracy                           0.62      3822\n",
      "   macro avg       0.47      0.44      0.43      3822\n",
      "weighted avg       0.60      0.62      0.61      3822\n",
      "\n",
      "\n",
      "Gradient Boosting Accuracy: 0.6881214024071167\n",
      "Gradient Boosting Classification Report:\n",
      "              precision    recall  f1-score   support\n",
      "\n",
      "       Black       0.69      0.69      0.69      1766\n",
      "        Draw       0.21      0.02      0.04       182\n",
      "       White       0.69      0.75      0.72      1874\n",
      "\n",
      "    accuracy                           0.69      3822\n",
      "   macro avg       0.53      0.49      0.48      3822\n",
      "weighted avg       0.67      0.69      0.67      3822\n",
      "\n"
     ]
    },
    {
     "name": "stderr",
     "output_type": "stream",
     "text": [
      "/opt/conda/lib/python3.10/site-packages/sklearn/linear_model/_logistic.py:458: ConvergenceWarning: lbfgs failed to converge (status=1):\n",
      "STOP: TOTAL NO. of ITERATIONS REACHED LIMIT.\n",
      "\n",
      "Increase the number of iterations (max_iter) or scale the data as shown in:\n",
      "    https://scikit-learn.org/stable/modules/preprocessing.html\n",
      "Please also refer to the documentation for alternative solver options:\n",
      "    https://scikit-learn.org/stable/modules/linear_model.html#logistic-regression\n",
      "  n_iter_i = _check_optimize_result(\n"
     ]
    },
    {
     "name": "stdout",
     "output_type": "stream",
     "text": [
      "Logistic Regression Accuracy: 0.6224489795918368\n",
      "Logistic Regression Classification Report:\n",
      "              precision    recall  f1-score   support\n",
      "\n",
      "       Black       0.62      0.60      0.61      1766\n",
      "        Draw       0.67      0.02      0.04       182\n",
      "       White       0.62      0.70      0.66      1874\n",
      "\n",
      "    accuracy                           0.62      3822\n",
      "   macro avg       0.64      0.44      0.44      3822\n",
      "weighted avg       0.62      0.62      0.61      3822\n",
      "\n"
     ]
    }
   ],
   "source": [
    "from sklearn.metrics import accuracy_score, classification_report\n",
    "\n",
    "rf_pipeline.fit(X_train, y_train)\n",
    "y_pred_rf = rf_pipeline.predict(X_test)\n",
    "accuracy_rf = accuracy_score(y_test, y_pred_rf)\n",
    "\n",
    "print(\"Random Forest Accuracy:\", accuracy_rf)\n",
    "print(\"Random Forest Classification Report:\")\n",
    "print(classification_report(y_test, y_pred_rf))\n",
    "\n",
    "# Train and evaluate Gradient Boosting\n",
    "gb_pipeline.fit(X_train, y_train)\n",
    "y_pred_gb = gb_pipeline.predict(X_test)\n",
    "accuracy_gb = accuracy_score(y_test, y_pred_gb)\n",
    "\n",
    "print(\"\\nGradient Boosting Accuracy:\", accuracy_gb)\n",
    "print(\"Gradient Boosting Classification Report:\")\n",
    "print(classification_report(y_test, y_pred_gb))\n",
    "\n",
    "lr_pipeline.fit(X_train, y_train)\n",
    "y_pred_lr = lr_pipeline.predict(X_test)\n",
    "accuracy_lr = accuracy_score(y_test, y_pred_lr)\n",
    "\n",
    "print(\"Logistic Regression Accuracy:\", accuracy_lr)\n",
    "print(\"Logistic Regression Classification Report:\")\n",
    "print(classification_report(y_test, y_pred_lr))"
   ]
  },
  {
   "cell_type": "markdown",
   "metadata": {},
   "source": [
    "**Random Forest Accuracy: <u>62.0%</u>\n",
    "<br>\n",
    "Gradient Boosting Accuracy: <u>68.8%</u>\n",
    "<br>\n",
    "Logistic Regression Accuracy: <u>62.2%</u>**\n",
    "\n"
   ]
  },
  {
   "cell_type": "markdown",
   "metadata": {},
   "source": [
    "<h2>Best Performing Algorithm</h2>\n",
    "Based on the above 3 learning algorithms, Gradient Boosting (GB) algorithm is the most accurate in predicting the outcome of a chess game with our dataset, hence we use GB as our best-performing algorithm."
   ]
  },
  {
   "cell_type": "markdown",
   "metadata": {},
   "source": [
    "#  **5 - Graphs of GB**"
   ]
  },
  {
   "cell_type": "markdown",
   "metadata": {},
   "source": [
    "## **5.1 - Confusion Matrix**"
   ]
  },
  {
   "cell_type": "code",
   "execution_count": 22,
   "metadata": {
    "execution": {
     "iopub.execute_input": "2023-11-21T04:41:51.139724Z",
     "iopub.status.busy": "2023-11-21T04:41:51.138870Z",
     "iopub.status.idle": "2023-11-21T04:41:51.580868Z",
     "shell.execute_reply": "2023-11-21T04:41:51.579698Z",
     "shell.execute_reply.started": "2023-11-21T04:41:51.139690Z"
    }
   },
   "outputs": [
    {
     "data": {
      "image/png": "[encoded data removed]",
      "text/plain": [
       "<Figure size 800x600 with 2 Axes>"
      ]
     },
     "metadata": {},
     "output_type": "display_data"
    }
   ],
   "source": [
    "from sklearn.metrics import confusion_matrix, classification_report\n",
    "\n",
    "class_names = ['black_wins', 'draw', 'white_wins']\n",
    "# 1. Confusion Matrix\n",
    "conf_matrix = confusion_matrix(y_test, y_pred_gb)\n",
    "plt.figure(figsize=(8, 6))\n",
    "sns.heatmap(conf_matrix, annot=True, fmt='d', cmap='Blues')\n",
    "plt.title('Confusion Matrix')\n",
    "plt.ylabel('True Label')\n",
    "plt.xlabel('Predicted Label')\n",
    "plt.xticks(ticks=np.arange(len(class_names)) + 0.5, labels=class_names)\n",
    "plt.yticks(ticks=np.arange(len(class_names)) + 0.5, labels=class_names)\n",
    "plt.show()\n"
   ]
  },
  {
   "cell_type": "markdown",
   "metadata": {},
   "source": [
    "<h3>Matrix Results:</h3>\n",
    "\n",
    "\n",
    "1. **Class \"black_wins\":**\n",
    "   - True Positive (TP): 1223 (Predicted as Black Wins, and it is Black Wins)\n",
    "   - False Positive (FP): 8 (Predicted as Black Wins, but it is not Black Wins)\n",
    "   - False Negative (FN): 535 (Not predicted as Black Wins, but it is Black Wins)\n",
    "\n",
    "2. **Class \"draw\":**\n",
    "   - False Negative (FN): 79 (Not predicted as Draw, but it is Draw)\n",
    "   - True Negative (TN): 4 (Predicted as not Draw, and it is not Draw)\n",
    "   - False Positive (FP): 99 (Predicted as Draw, but it is not Draw)\n",
    "\n",
    "3. **Class \"white_wins\":**\n",
    "   - False Positive (FP): 464 (Predicted as White Wins, but it is not White Wins)\n",
    "   - False Negative (FN): 7 (Not predicted as White Wins, but it is White Wins)\n",
    "   - True Positive (TP): 1403 (Predicted as White Wins, and it is White Wins)"
   ]
  },
  {
   "cell_type": "markdown",
   "metadata": {},
   "source": [
    "## **5.2 - Learning Curve**"
   ]
  },
  {
   "cell_type": "code",
   "execution_count": 23,
   "metadata": {
    "execution": {
     "iopub.execute_input": "2023-11-21T04:41:51.582666Z",
     "iopub.status.busy": "2023-11-21T04:41:51.582283Z",
     "iopub.status.idle": "2023-11-21T04:45:34.778017Z",
     "shell.execute_reply": "2023-11-21T04:45:34.776898Z",
     "shell.execute_reply.started": "2023-11-21T04:41:51.582632Z"
    }
   },
   "outputs": [
    {
     "data": {
      "image/png": "[encoded data removed]",
      "text/plain": [
       "<Figure size 1000x600 with 1 Axes>"
      ]
     },
     "metadata": {},
     "output_type": "display_data"
    }
   ],
   "source": [
    "from sklearn.model_selection import learning_curve\n",
    "\n",
    "# Assuming 'gb_pipeline' is your Gradient Boosting pipeline\n",
    "# 'X' and 'y' are your features and target variable\n",
    "train_sizes, train_scores, validation_scores = learning_curve(\n",
    "    gb_pipeline, X, y, train_sizes=np.linspace(0.1, 1.0, 10), cv=5, scoring='accuracy', random_state=42)\n",
    "\n",
    "# Calculate mean and standard deviation for training and validation scores\n",
    "train_scores_mean = np.mean(train_scores, axis=1)\n",
    "train_scores_std = np.std(train_scores, axis=1)\n",
    "validation_scores_mean = np.mean(validation_scores, axis=1)\n",
    "validation_scores_std = np.std(validation_scores, axis=1)\n",
    "\n",
    "# Plot the learning curve\n",
    "plt.figure(figsize=(10, 6))\n",
    "plt.fill_between(train_sizes, train_scores_mean - train_scores_std,\n",
    "                 train_scores_mean + train_scores_std, alpha=0.1, color=\"r\")\n",
    "plt.fill_between(train_sizes, validation_scores_mean - validation_scores_std,\n",
    "                 validation_scores_mean + validation_scores_std, alpha=0.1, color=\"g\")\n",
    "plt.plot(train_sizes, train_scores_mean, 'o-', color=\"r\", label=\"Training score\")\n",
    "plt.plot(train_sizes, validation_scores_mean, 'o-', color=\"g\", label=\"Cross-validation score\")\n",
    "plt.xlabel(\"Training examples\")\n",
    "plt.ylabel(\"Accuracy\")\n",
    "plt.title(\"Gradient Boosting Learning Curve\")\n",
    "plt.legend(loc=\"best\")\n",
    "plt.show()\n"
   ]
  },
  {
   "cell_type": "markdown",
   "metadata": {},
   "source": [
    "<b>Interpretation:</b>\n",
    "\n",
    "- In the beginning, with a small training set (1000), the model performs well on the training data but poorly on the cross-validation data. This suggests that the model might be overfitting to the small amount of training data.\n",
    "- As the training set size increases, the training score decreases, and the cross-validation score increases, indicating that the model is generalizing better to new data. This is a positive sign, suggesting that providing more data helps the model generalize better.\n",
    "- The convergence of the two curves suggests that increasing the training set size beyond a certain point (around 12200) may not significantly improve model performance. The small gap between the two curves indicates that the model is not overfitting, and there is a good balance between bias and variance."
   ]
  },
  {
   "cell_type": "markdown",
   "metadata": {},
   "source": [
    "# **5.3 - Feature Importance**\n",
    "## **5.3a - Extracting Feature Importance**"
   ]
  },
  {
   "cell_type": "code",
   "execution_count": 24,
   "metadata": {
    "execution": {
     "iopub.execute_input": "2023-11-21T04:45:34.780030Z",
     "iopub.status.busy": "2023-11-21T04:45:34.779578Z",
     "iopub.status.idle": "2023-11-21T04:45:34.806561Z",
     "shell.execute_reply": "2023-11-21T04:45:34.805091Z",
     "shell.execute_reply.started": "2023-11-21T04:45:34.779986Z"
    }
   },
   "outputs": [
    {
     "data": {
      "text/html": [
       "<div>\n",
       "<style scoped>\n",
       "    .dataframe tbody tr th:only-of-type {\n",
       "        vertical-align: middle;\n",
       "    }\n",
       "\n",
       "    .dataframe tbody tr th {\n",
       "        vertical-align: top;\n",
       "    }\n",
       "\n",
       "    .dataframe thead th {\n",
       "        text-align: right;\n",
       "    }\n",
       "</style>\n",
       "<table border=\"1\" class=\"dataframe\">\n",
       "  <thead>\n",
       "    <tr style=\"text-align: right;\">\n",
       "      <th></th>\n",
       "      <th>Feature</th>\n",
       "      <th>Importance</th>\n",
       "    </tr>\n",
       "  </thead>\n",
       "  <tbody>\n",
       "    <tr>\n",
       "      <th>0</th>\n",
       "      <td>turns</td>\n",
       "      <td>0.363295</td>\n",
       "    </tr>\n",
       "    <tr>\n",
       "      <th>1</th>\n",
       "      <td>white_rating</td>\n",
       "      <td>0.299669</td>\n",
       "    </tr>\n",
       "    <tr>\n",
       "      <th>2</th>\n",
       "      <td>black_rating</td>\n",
       "      <td>0.277611</td>\n",
       "    </tr>\n",
       "    <tr>\n",
       "      <th>3</th>\n",
       "      <td>time</td>\n",
       "      <td>0.006572</td>\n",
       "    </tr>\n",
       "    <tr>\n",
       "      <th>5</th>\n",
       "      <td>opening_code_A00</td>\n",
       "      <td>0.004300</td>\n",
       "    </tr>\n",
       "    <tr>\n",
       "      <th>4</th>\n",
       "      <td>increment</td>\n",
       "      <td>0.003122</td>\n",
       "    </tr>\n",
       "    <tr>\n",
       "      <th>177</th>\n",
       "      <td>opening_code_C22</td>\n",
       "      <td>0.002472</td>\n",
       "    </tr>\n",
       "    <tr>\n",
       "      <th>94</th>\n",
       "      <td>opening_code_B20</td>\n",
       "      <td>0.002235</td>\n",
       "    </tr>\n",
       "    <tr>\n",
       "      <th>75</th>\n",
       "      <td>opening_code_B00</td>\n",
       "      <td>0.002009</td>\n",
       "    </tr>\n",
       "    <tr>\n",
       "      <th>359</th>\n",
       "      <td>opening_code_E92</td>\n",
       "      <td>0.001373</td>\n",
       "    </tr>\n",
       "    <tr>\n",
       "      <th>198</th>\n",
       "      <td>opening_code_C43</td>\n",
       "      <td>0.001362</td>\n",
       "    </tr>\n",
       "    <tr>\n",
       "      <th>326</th>\n",
       "      <td>opening_code_E32</td>\n",
       "      <td>0.001129</td>\n",
       "    </tr>\n",
       "    <tr>\n",
       "      <th>315</th>\n",
       "      <td>opening_code_E12</td>\n",
       "      <td>0.001057</td>\n",
       "    </tr>\n",
       "    <tr>\n",
       "      <th>241</th>\n",
       "      <td>opening_code_C92</td>\n",
       "      <td>0.000924</td>\n",
       "    </tr>\n",
       "    <tr>\n",
       "      <th>247</th>\n",
       "      <td>opening_code_D04</td>\n",
       "      <td>0.000874</td>\n",
       "    </tr>\n",
       "    <tr>\n",
       "      <th>205</th>\n",
       "      <td>opening_code_C50</td>\n",
       "      <td>0.000874</td>\n",
       "    </tr>\n",
       "    <tr>\n",
       "      <th>225</th>\n",
       "      <td>opening_code_C70</td>\n",
       "      <td>0.000821</td>\n",
       "    </tr>\n",
       "    <tr>\n",
       "      <th>195</th>\n",
       "      <td>opening_code_C40</td>\n",
       "      <td>0.000805</td>\n",
       "    </tr>\n",
       "    <tr>\n",
       "      <th>56</th>\n",
       "      <td>opening_code_A57</td>\n",
       "      <td>0.000788</td>\n",
       "    </tr>\n",
       "    <tr>\n",
       "      <th>82</th>\n",
       "      <td>opening_code_B07</td>\n",
       "      <td>0.000777</td>\n",
       "    </tr>\n",
       "    <tr>\n",
       "      <th>30</th>\n",
       "      <td>opening_code_A28</td>\n",
       "      <td>0.000748</td>\n",
       "    </tr>\n",
       "    <tr>\n",
       "      <th>18</th>\n",
       "      <td>opening_code_A13</td>\n",
       "      <td>0.000704</td>\n",
       "    </tr>\n",
       "    <tr>\n",
       "      <th>187</th>\n",
       "      <td>opening_code_C32</td>\n",
       "      <td>0.000702</td>\n",
       "    </tr>\n",
       "    <tr>\n",
       "      <th>349</th>\n",
       "      <td>opening_code_E72</td>\n",
       "      <td>0.000660</td>\n",
       "    </tr>\n",
       "    <tr>\n",
       "      <th>223</th>\n",
       "      <td>opening_code_C68</td>\n",
       "      <td>0.000628</td>\n",
       "    </tr>\n",
       "    <tr>\n",
       "      <th>297</th>\n",
       "      <td>opening_code_D78</td>\n",
       "      <td>0.000599</td>\n",
       "    </tr>\n",
       "    <tr>\n",
       "      <th>104</th>\n",
       "      <td>opening_code_B31</td>\n",
       "      <td>0.000595</td>\n",
       "    </tr>\n",
       "    <tr>\n",
       "      <th>125</th>\n",
       "      <td>opening_code_B54</td>\n",
       "      <td>0.000592</td>\n",
       "    </tr>\n",
       "    <tr>\n",
       "      <th>97</th>\n",
       "      <td>opening_code_B23</td>\n",
       "      <td>0.000567</td>\n",
       "    </tr>\n",
       "    <tr>\n",
       "      <th>278</th>\n",
       "      <td>opening_code_D43</td>\n",
       "      <td>0.000532</td>\n",
       "    </tr>\n",
       "  </tbody>\n",
       "</table>\n",
       "</div>"
      ],
      "text/plain": [
       "              Feature  Importance\n",
       "0               turns    0.363295\n",
       "1        white_rating    0.299669\n",
       "2        black_rating    0.277611\n",
       "3                time    0.006572\n",
       "5    opening_code_A00    0.004300\n",
       "4           increment    0.003122\n",
       "177  opening_code_C22    0.002472\n",
       "94   opening_code_B20    0.002235\n",
       "75   opening_code_B00    0.002009\n",
       "359  opening_code_E92    0.001373\n",
       "198  opening_code_C43    0.001362\n",
       "326  opening_code_E32    0.001129\n",
       "315  opening_code_E12    0.001057\n",
       "241  opening_code_C92    0.000924\n",
       "247  opening_code_D04    0.000874\n",
       "205  opening_code_C50    0.000874\n",
       "225  opening_code_C70    0.000821\n",
       "195  opening_code_C40    0.000805\n",
       "56   opening_code_A57    0.000788\n",
       "82   opening_code_B07    0.000777\n",
       "30   opening_code_A28    0.000748\n",
       "18   opening_code_A13    0.000704\n",
       "187  opening_code_C32    0.000702\n",
       "349  opening_code_E72    0.000660\n",
       "223  opening_code_C68    0.000628\n",
       "297  opening_code_D78    0.000599\n",
       "104  opening_code_B31    0.000595\n",
       "125  opening_code_B54    0.000592\n",
       "97   opening_code_B23    0.000567\n",
       "278  opening_code_D43    0.000532"
      ]
     },
     "execution_count": 24,
     "metadata": {},
     "output_type": "execute_result"
    }
   ],
   "source": [
    "# Extract numerical feature names\n",
    "num_feature_names = (gb_pipeline.named_steps['preprocessor']\n",
    "                     .named_transformers_['num']\n",
    "                     .named_steps['scaler']\n",
    "                     .get_feature_names_out(input_features=num_features))\n",
    "\n",
    "# Extract categorical feature names after one-hot encoding\n",
    "cat_feature_names = (gb_pipeline.named_steps['preprocessor']\n",
    "                     .named_transformers_['cat']\n",
    "                     .named_steps['onehot']\n",
    "                     .get_feature_names_out(input_features=cat_features))\n",
    "\n",
    "# Combine numerical and categorical feature names\n",
    "all_feature_names = np.concatenate([num_feature_names, cat_feature_names])\n",
    "\n",
    "# Create a DataFrame to associate feature names with their importance scores from the GB classifier\n",
    "feature_importance_df = pd.DataFrame({'Feature': all_feature_names, 'Importance': gb_pipeline.named_steps['classifier'].feature_importances_})\n",
    "\n",
    "# Sort the features by importance in descending order\n",
    "feature_importance_df = feature_importance_df.sort_values(by='Importance', ascending=False)\n",
    "feature_importance_df.head(30)"
   ]
  },
  {
   "cell_type": "markdown",
   "metadata": {},
   "source": [
    "As we can see above there are many features which are based on combinations of opening_code's, and they all contribute extremely litle importance, which is why we will drop all of the opening_code features to focus on main factors"
   ]
  },
  {
   "cell_type": "markdown",
   "metadata": {},
   "source": [
    "## **5.3b - Dropping Unimportance Features**"
   ]
  },
  {
   "cell_type": "code",
   "execution_count": 25,
   "metadata": {
    "execution": {
     "iopub.execute_input": "2023-11-21T04:45:34.808406Z",
     "iopub.status.busy": "2023-11-21T04:45:34.807984Z",
     "iopub.status.idle": "2023-11-21T04:45:34.821799Z",
     "shell.execute_reply": "2023-11-21T04:45:34.820674Z",
     "shell.execute_reply.started": "2023-11-21T04:45:34.808367Z"
    }
   },
   "outputs": [
    {
     "data": {
      "text/html": [
       "<div>\n",
       "<style scoped>\n",
       "    .dataframe tbody tr th:only-of-type {\n",
       "        vertical-align: middle;\n",
       "    }\n",
       "\n",
       "    .dataframe tbody tr th {\n",
       "        vertical-align: top;\n",
       "    }\n",
       "\n",
       "    .dataframe thead th {\n",
       "        text-align: right;\n",
       "    }\n",
       "</style>\n",
       "<table border=\"1\" class=\"dataframe\">\n",
       "  <thead>\n",
       "    <tr style=\"text-align: right;\">\n",
       "      <th></th>\n",
       "      <th>Feature</th>\n",
       "      <th>Importance</th>\n",
       "    </tr>\n",
       "  </thead>\n",
       "  <tbody>\n",
       "    <tr>\n",
       "      <th>0</th>\n",
       "      <td>turns</td>\n",
       "      <td>0.363295</td>\n",
       "    </tr>\n",
       "    <tr>\n",
       "      <th>1</th>\n",
       "      <td>white_rating</td>\n",
       "      <td>0.299669</td>\n",
       "    </tr>\n",
       "    <tr>\n",
       "      <th>2</th>\n",
       "      <td>black_rating</td>\n",
       "      <td>0.277611</td>\n",
       "    </tr>\n",
       "    <tr>\n",
       "      <th>3</th>\n",
       "      <td>time</td>\n",
       "      <td>0.006572</td>\n",
       "    </tr>\n",
       "    <tr>\n",
       "      <th>4</th>\n",
       "      <td>increment</td>\n",
       "      <td>0.003122</td>\n",
       "    </tr>\n",
       "  </tbody>\n",
       "</table>\n",
       "</div>"
      ],
      "text/plain": [
       "        Feature  Importance\n",
       "0         turns    0.363295\n",
       "1  white_rating    0.299669\n",
       "2  black_rating    0.277611\n",
       "3          time    0.006572\n",
       "4     increment    0.003122"
      ]
     },
     "execution_count": 25,
     "metadata": {},
     "output_type": "execute_result"
    }
   ],
   "source": [
    "# Remove rows where the value in the \"opening_code\" column starts with \"opening_code\"\n",
    "feature_importance_df = feature_importance_df[~feature_importance_df['Feature'].str.startswith('opening_code')]\n",
    "feature_importance_df.head(15)"
   ]
  },
  {
   "cell_type": "markdown",
   "metadata": {},
   "source": [
    "Now we only have significant features, and we will plot the graph"
   ]
  },
  {
   "cell_type": "markdown",
   "metadata": {},
   "source": [
    "## **5.3c - Plotting Feature Importance**"
   ]
  },
  {
   "cell_type": "code",
   "execution_count": 26,
   "metadata": {
    "execution": {
     "iopub.execute_input": "2023-11-21T04:45:34.824021Z",
     "iopub.status.busy": "2023-11-21T04:45:34.823302Z",
     "iopub.status.idle": "2023-11-21T04:45:35.233708Z",
     "shell.execute_reply": "2023-11-21T04:45:35.232687Z",
     "shell.execute_reply.started": "2023-11-21T04:45:34.823980Z"
    }
   },
   "outputs": [
    {
     "data": {
      "image/png": "[encoded data removed]",
      "text/plain": [
       "<Figure size 1200x800 with 1 Axes>"
      ]
     },
     "metadata": {},
     "output_type": "display_data"
    }
   ],
   "source": [
    "# Plot the feature importance graph\n",
    "plt.figure(figsize=(12, 8))\n",
    "plt.barh(feature_importance_df['Feature'], feature_importance_df['Importance'])\n",
    "plt.xlabel('Importance Score')\n",
    "plt.ylabel('Feature')\n",
    "plt.title('Gradient Boosting Feature Importance')\n",
    "plt.show()"
   ]
  },
  {
   "cell_type": "markdown",
   "metadata": {},
   "source": [
    "As a result we can see that the main important features are `\"white_rating\", \"turns\", \"black_rating\"` <br>\n",
    "then there are also some features which are somewhat important within 1%"
   ]
  }
 ],
 "metadata": {
  "kaggle": {
   "accelerator": "none",
   "dataSources": [
    {
     "datasetId": 3037306,
     "sourceId": 5220640,
     "sourceType": "datasetVersion"
    }
   ],
   "dockerImageVersionId": 30579,
   "isGpuEnabled": false,
   "isInternetEnabled": false,
   "language": "python",
   "sourceType": "notebook"
  },
  "kernelspec": {
   "display_name": "Python 3 (ipykernel)",
   "language": "python",
   "name": "python3"
  },
  "language_info": {
   "codemirror_mode": {
    "name": "ipython",
    "version": 3
   },
   "file_extension": ".py",
   "mimetype": "text/x-python",
   "name": "python",
   "nbconvert_exporter": "python",
   "pygments_lexer": "ipython3",
   "version": "3.11.5"
  }
 },
 "nbformat": 4,
 "nbformat_minor": 4
}
